{
 "cells": [
  {
   "cell_type": "code",
   "execution_count": 1,
   "metadata": {},
   "outputs": [],
   "source": [
    "import matplotlib.pyplot as plt\n",
    "from datetime import datetime\n",
    "import pandas as pd\n",
    "import numpy as np\n",
    "import talib\n",
    "from sklearn.cluster import KMeans"
   ]
  },
  {
   "cell_type": "code",
   "execution_count": 2,
   "metadata": {},
   "outputs": [],
   "source": [
    "# set path for your .csv file\n",
    "path = 'TYPE YOUR PATH HERE'\n",
    "#path = '/Users/junenyjune/Documents/1_Research/22_My own projects/Project with Poon/Ariticle/3_Kmean clustering and creating a simple trading rule for smoother returns'"
   ]
  },
  {
   "cell_type": "markdown",
   "metadata": {},
   "source": [
    "## Get data "
   ]
  },
  {
   "cell_type": "code",
   "execution_count": 3,
   "metadata": {},
   "outputs": [],
   "source": [
    "def get_data(sym):\n",
    "    df_raw = pd.read_csv(path + '/' + str(sym) +'.csv', index_col=0, parse_dates=True)\n",
    "    df = df_raw.copy()\n",
    "    df['Volume'] = df['Volume'] / df['Volume'].rolling(20).mean()\n",
    "    df['Rng'] = (df['High'] - df['Low']) / talib.ATR(df.High.values,df.Low.values,df.Close.values,20)\n",
    "    df['Ret'] = df.Open.shift(-2) - df.Open.shift(-1)\n",
    "    df['Tar'] = 0\n",
    "    df.dropna(inplace=True)\n",
    "    return df_raw, df"
   ]
  },
  {
   "cell_type": "code",
   "execution_count": 4,
   "metadata": {},
   "outputs": [],
   "source": [
    "# ------------------------------------\n",
    "# Split into Test and Train\n",
    "#\n",
    "# Train until 2014\n",
    "# Test from 2015 onward\n",
    "# ------------------------------------\n",
    "\n",
    "df_raw, df = get_data('SET50')\n",
    "df_train = df[df.index <= datetime(2015,1,1)]\n",
    "df_test  = df[df.index > datetime(2015,1,1)]"
   ]
  },
  {
   "cell_type": "code",
   "execution_count": 5,
   "metadata": {},
   "outputs": [
    {
     "data": {
      "text/html": [
       "<div>\n",
       "<style scoped>\n",
       "    .dataframe tbody tr th:only-of-type {\n",
       "        vertical-align: middle;\n",
       "    }\n",
       "\n",
       "    .dataframe tbody tr th {\n",
       "        vertical-align: top;\n",
       "    }\n",
       "\n",
       "    .dataframe thead th {\n",
       "        text-align: right;\n",
       "    }\n",
       "</style>\n",
       "<table border=\"1\" class=\"dataframe\">\n",
       "  <thead>\n",
       "    <tr style=\"text-align: right;\">\n",
       "      <th></th>\n",
       "      <th>Open</th>\n",
       "      <th>High</th>\n",
       "      <th>Low</th>\n",
       "      <th>Close</th>\n",
       "      <th>Volume</th>\n",
       "      <th>Rng</th>\n",
       "      <th>Ret</th>\n",
       "      <th>Tar</th>\n",
       "    </tr>\n",
       "    <tr>\n",
       "      <th>Date</th>\n",
       "      <th></th>\n",
       "      <th></th>\n",
       "      <th></th>\n",
       "      <th></th>\n",
       "      <th></th>\n",
       "      <th></th>\n",
       "      <th></th>\n",
       "      <th></th>\n",
       "    </tr>\n",
       "  </thead>\n",
       "  <tbody>\n",
       "    <tr>\n",
       "      <th>2001-10-12</th>\n",
       "      <td>188.6</td>\n",
       "      <td>188.6</td>\n",
       "      <td>185.9</td>\n",
       "      <td>186.1</td>\n",
       "      <td>1.019831</td>\n",
       "      <td>0.554415</td>\n",
       "      <td>-1.9</td>\n",
       "      <td>0</td>\n",
       "    </tr>\n",
       "    <tr>\n",
       "      <th>2001-10-15</th>\n",
       "      <td>186.4</td>\n",
       "      <td>186.4</td>\n",
       "      <td>182.4</td>\n",
       "      <td>183.8</td>\n",
       "      <td>0.998129</td>\n",
       "      <td>0.828758</td>\n",
       "      <td>1.1</td>\n",
       "      <td>0</td>\n",
       "    </tr>\n",
       "    <tr>\n",
       "      <th>2001-10-16</th>\n",
       "      <td>184.5</td>\n",
       "      <td>185.5</td>\n",
       "      <td>184.1</td>\n",
       "      <td>184.8</td>\n",
       "      <td>0.990848</td>\n",
       "      <td>0.299775</td>\n",
       "      <td>0.8</td>\n",
       "      <td>0</td>\n",
       "    </tr>\n",
       "    <tr>\n",
       "      <th>2001-10-17</th>\n",
       "      <td>185.6</td>\n",
       "      <td>188.1</td>\n",
       "      <td>185.4</td>\n",
       "      <td>188.0</td>\n",
       "      <td>1.014608</td>\n",
       "      <td>0.586744</td>\n",
       "      <td>0.9</td>\n",
       "      <td>0</td>\n",
       "    </tr>\n",
       "    <tr>\n",
       "      <th>2001-10-18</th>\n",
       "      <td>186.4</td>\n",
       "      <td>188.8</td>\n",
       "      <td>185.7</td>\n",
       "      <td>186.6</td>\n",
       "      <td>1.009651</td>\n",
       "      <td>0.684843</td>\n",
       "      <td>-1.9</td>\n",
       "      <td>0</td>\n",
       "    </tr>\n",
       "  </tbody>\n",
       "</table>\n",
       "</div>"
      ],
      "text/plain": [
       "             Open   High    Low  Close    Volume       Rng  Ret  Tar\n",
       "Date                                                                \n",
       "2001-10-12  188.6  188.6  185.9  186.1  1.019831  0.554415 -1.9    0\n",
       "2001-10-15  186.4  186.4  182.4  183.8  0.998129  0.828758  1.1    0\n",
       "2001-10-16  184.5  185.5  184.1  184.8  0.990848  0.299775  0.8    0\n",
       "2001-10-17  185.6  188.1  185.4  188.0  1.014608  0.586744  0.9    0\n",
       "2001-10-18  186.4  188.8  185.7  186.6  1.009651  0.684843 -1.9    0"
      ]
     },
     "execution_count": 5,
     "metadata": {},
     "output_type": "execute_result"
    }
   ],
   "source": [
    "df_train.head()"
   ]
  },
  {
   "cell_type": "markdown",
   "metadata": {},
   "source": [
    "## Training"
   ]
  },
  {
   "cell_type": "code",
   "execution_count": 6,
   "metadata": {},
   "outputs": [
    {
     "name": "stderr",
     "output_type": "stream",
     "text": [
      "/Users/junenyjune/anaconda3/lib/python3.6/site-packages/ipykernel_launcher.py:7: SettingWithCopyWarning: \n",
      "A value is trying to be set on a copy of a slice from a DataFrame.\n",
      "Try using .loc[row_indexer,col_indexer] = value instead\n",
      "\n",
      "See the caveats in the documentation: http://pandas.pydata.org/pandas-docs/stable/indexing.html#indexing-view-versus-copy\n",
      "  import sys\n"
     ]
    }
   ],
   "source": [
    "# ------------------------------------\n",
    "#  K Means - Training\n",
    "# ------------------------------------\n",
    "X = df_train[['Volume','Rng']]\n",
    "kmeans = KMeans(n_clusters=3).fit(X)\n",
    "y_kmeans_train = kmeans.predict(X)\n",
    "df_train['Tar'] = y_kmeans_train"
   ]
  },
  {
   "cell_type": "code",
   "execution_count": 7,
   "metadata": {},
   "outputs": [
    {
     "data": {
      "image/png": "[encoded data removed]",
      "text/plain": [
       "<Figure size 432x288 with 1 Axes>"
      ]
     },
     "metadata": {},
     "output_type": "display_data"
    }
   ],
   "source": [
    "# --------------------------\n",
    "#  Plot Training\n",
    "# --------------------------\n",
    "\n",
    "centers = kmeans.cluster_centers_\n",
    "plt.scatter(df_train['Volume'],df_train['Rng'], c=y_kmeans_train)\n",
    "plt.scatter(centers[:,0],centers[:,1],c='red',s=100,marker='x')\n",
    "plt.show()"
   ]
  },
  {
   "cell_type": "markdown",
   "metadata": {},
   "source": [
    "## Testing"
   ]
  },
  {
   "cell_type": "code",
   "execution_count": 8,
   "metadata": {},
   "outputs": [
    {
     "name": "stderr",
     "output_type": "stream",
     "text": [
      "/Users/junenyjune/anaconda3/lib/python3.6/site-packages/ipykernel_launcher.py:7: SettingWithCopyWarning: \n",
      "A value is trying to be set on a copy of a slice from a DataFrame.\n",
      "Try using .loc[row_indexer,col_indexer] = value instead\n",
      "\n",
      "See the caveats in the documentation: http://pandas.pydata.org/pandas-docs/stable/indexing.html#indexing-view-versus-copy\n",
      "  import sys\n"
     ]
    }
   ],
   "source": [
    "# -------------------------------\n",
    "#  K Means - Testing\n",
    "# -------------------------------\n",
    "\n",
    "x = df_test[['Volume','Rng']]\n",
    "y_kmeans_test = kmeans.predict(x)\n",
    "df_test['Tar'] = y_kmeans_test"
   ]
  },
  {
   "cell_type": "code",
   "execution_count": 9,
   "metadata": {},
   "outputs": [
    {
     "data": {
      "image/png": "[encoded data removed]",
      "text/plain": [
       "<Figure size 432x288 with 1 Axes>"
      ]
     },
     "metadata": {},
     "output_type": "display_data"
    }
   ],
   "source": [
    "# --------------------------------\n",
    "#  Plot Testing\n",
    "#\n",
    "plt.scatter(df_test['Volume'],df_test['Rng'],c=y_kmeans_test)\n",
    "plt.scatter(centers[:,0],centers[:,1],c='red',s=100,marker='x')\n",
    "plt.show()"
   ]
  },
  {
   "cell_type": "code",
   "execution_count": 10,
   "metadata": {},
   "outputs": [
    {
     "data": {
      "image/png": "[encoded data removed]",
      "text/plain": [
       "<Figure size 432x288 with 1 Axes>"
      ]
     },
     "metadata": {},
     "output_type": "display_data"
    }
   ],
   "source": [
    "# --------------------------\n",
    "#  Plot Training & testing\n",
    "# --------------------------\n",
    "\n",
    "centers = kmeans.cluster_centers_\n",
    "plt.scatter(df_test['Volume'],df_test['Rng'],c=y_kmeans_test)\n",
    "plt.scatter(centers[:,0],centers[:,1],c='red',s=100,marker='x')\n",
    "plt.show()"
   ]
  },
  {
   "cell_type": "markdown",
   "metadata": {},
   "source": [
    "## If we trade in the next day based on the current day's cluster"
   ]
  },
  {
   "cell_type": "code",
   "execution_count": 11,
   "metadata": {},
   "outputs": [
    {
     "name": "stdout",
     "output_type": "stream",
     "text": [
      "Total Points Earned by Cluster Prediction\n",
      "Cluster 1 Train: 603.02\tCluster 1 Test: -103\n",
      "Cluster 2 Train: -5.57\tCluster 2 Test: 0.00\n",
      "Cluster 3 Train: 190.90\tCluster 3 Test: 105.24\n"
     ]
    }
   ],
   "source": [
    "# ------------------------------------------\n",
    "#  Compare Training and Testing\n",
    "#\n",
    "print(\"Total Points Earned by Cluster Prediction\")\n",
    "\n",
    "print(\"Cluster 1 Train: %.2f\\tCluster 1 Test: %2.f\" % (df_train['Ret'].loc[df_train['Tar'] == 0].sum(),df_test['Ret'].loc[df_test['Tar'] == 0].sum()))\n",
    "\n",
    "print(\"Cluster 2 Train: %.2f\\tCluster 2 Test: %.2f\" % (df_train['Ret'].loc[df_train['Tar'] == 1].sum(),df_test['Ret'].loc[df_test['Tar'] == 1].sum()))\n",
    "\n",
    "print(\"Cluster 3 Train: %.2f\\tCluster 3 Test: %.2f\" % (df_train['Ret'].loc[df_train['Tar'] == 2].sum(),df_test['Ret'].loc[df_test['Tar'] == 2].sum()))"
   ]
  },
  {
   "cell_type": "code",
   "execution_count": 12,
   "metadata": {
    "scrolled": true
   },
   "outputs": [
    {
     "data": {
      "image/png": "[encoded data removed]",
      "text/plain": [
       "<Figure size 432x288 with 1 Axes>"
      ]
     },
     "metadata": {},
     "output_type": "display_data"
    }
   ],
   "source": [
    "# ------------------------------\n",
    "#  Equity Curves\n",
    "#\n",
    "plt.plot(np.cumsum(df_test['Ret'].loc[df_test['Tar'] == 0]),label='Cluster 1')\n",
    "plt.plot(np.cumsum(df_test['Ret'].loc[df_test['Tar'] == 1]),label='Cluster 2')\n",
    "plt.plot(np.cumsum(df_test['Ret'].loc[df_test['Tar'] == 2]),label='Cluster 3')\n",
    "plt.legend()\n",
    "plt.show()\n"
   ]
  }
 ],
 "metadata": {
  "kernelspec": {
   "display_name": "Python 3",
   "language": "python",
   "name": "python3"
  },
  "language_info": {
   "codemirror_mode": {
    "name": "ipython",
    "version": 3
   },
   "file_extension": ".py",
   "mimetype": "text/x-python",
   "name": "python",
   "nbconvert_exporter": "python",
   "pygments_lexer": "ipython3",
   "version": "3.6.5"
  }
 },
 "nbformat": 4,
 "nbformat_minor": 2
}
